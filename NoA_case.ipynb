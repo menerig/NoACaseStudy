{
 "cells": [
  {
   "cell_type": "code",
   "execution_count": null,
   "metadata": {},
   "outputs": [],
   "source": [
    "import numpy as np\n",
    "import pandas as pd\n",
    "import statsmodels.api as sm\n",
    "from lifetimes import BetaGeoFitter, GammaGammaFitter\n",
    "from sklearn.cluster import KMeans\n",
    "import matplotlib.pyplot as plt\n",
    "import seaborn as sns"
   ]
  },
  {
   "cell_type": "code",
   "execution_count": 19,
   "metadata": {},
   "outputs": [],
   "source": [
    "ecomm_df = pd.read_excel('NoA-Connect-JrDataScience-Case.xlsx', parse_dates=['order_date'])"
   ]
  },
  {
   "cell_type": "code",
   "execution_count": 20,
   "metadata": {},
   "outputs": [
    {
     "data": {
      "text/html": [
       "<div>\n",
       "<style scoped>\n",
       "    .dataframe tbody tr th:only-of-type {\n",
       "        vertical-align: middle;\n",
       "    }\n",
       "\n",
       "    .dataframe tbody tr th {\n",
       "        vertical-align: top;\n",
       "    }\n",
       "\n",
       "    .dataframe thead th {\n",
       "        text-align: right;\n",
       "    }\n",
       "</style>\n",
       "<table border=\"1\" class=\"dataframe\">\n",
       "  <thead>\n",
       "    <tr style=\"text-align: right;\">\n",
       "      <th></th>\n",
       "      <th>order_id</th>\n",
       "      <th>purchase_amount</th>\n",
       "      <th>currency</th>\n",
       "      <th>order_date</th>\n",
       "      <th>customer_id</th>\n",
       "    </tr>\n",
       "  </thead>\n",
       "  <tbody>\n",
       "    <tr>\n",
       "      <th>0</th>\n",
       "      <td>06c4bd28-eda3-42df-b819-aa19157a7d45</td>\n",
       "      <td>15.29</td>\n",
       "      <td>EUR</td>\n",
       "      <td>2025-01-22</td>\n",
       "      <td>835ec885-114a-4f7f-b2a4-d7b45dc74411</td>\n",
       "    </tr>\n",
       "    <tr>\n",
       "      <th>1</th>\n",
       "      <td>3daaf5f9-b2c2-457a-9abf-330e279fc5c0</td>\n",
       "      <td>37.19</td>\n",
       "      <td>EUR</td>\n",
       "      <td>2025-01-22</td>\n",
       "      <td>74093a26-a976-42f8-b5c1-fcef1faebe9c</td>\n",
       "    </tr>\n",
       "    <tr>\n",
       "      <th>2</th>\n",
       "      <td>33e1834f-db37-4a99-9be5-e45886b4dfd4</td>\n",
       "      <td>56.37</td>\n",
       "      <td>EUR</td>\n",
       "      <td>2025-01-22</td>\n",
       "      <td>a27631c8-3fbd-4ace-a46f-c65b2c5928d2</td>\n",
       "    </tr>\n",
       "    <tr>\n",
       "      <th>3</th>\n",
       "      <td>0b51225c-0ffe-4b4a-990b-f266f58e51aa</td>\n",
       "      <td>24.19</td>\n",
       "      <td>EUR</td>\n",
       "      <td>2025-01-22</td>\n",
       "      <td>2d5c1cad-07eb-439f-8ffa-9cd8ced6cea2</td>\n",
       "    </tr>\n",
       "    <tr>\n",
       "      <th>4</th>\n",
       "      <td>8d635007-5ab8-4680-988a-6ac5a93ea14b</td>\n",
       "      <td>24.79</td>\n",
       "      <td>USD</td>\n",
       "      <td>2025-01-22</td>\n",
       "      <td>48a9bdca-dbf9-41b3-be54-93cf62d257da</td>\n",
       "    </tr>\n",
       "  </tbody>\n",
       "</table>\n",
       "</div>"
      ],
      "text/plain": [
       "                               order_id  purchase_amount currency order_date  \\\n",
       "0  06c4bd28-eda3-42df-b819-aa19157a7d45            15.29      EUR 2025-01-22   \n",
       "1  3daaf5f9-b2c2-457a-9abf-330e279fc5c0            37.19      EUR 2025-01-22   \n",
       "2  33e1834f-db37-4a99-9be5-e45886b4dfd4            56.37      EUR 2025-01-22   \n",
       "3  0b51225c-0ffe-4b4a-990b-f266f58e51aa            24.19      EUR 2025-01-22   \n",
       "4  8d635007-5ab8-4680-988a-6ac5a93ea14b            24.79      USD 2025-01-22   \n",
       "\n",
       "                            customer_id  \n",
       "0  835ec885-114a-4f7f-b2a4-d7b45dc74411  \n",
       "1  74093a26-a976-42f8-b5c1-fcef1faebe9c  \n",
       "2  a27631c8-3fbd-4ace-a46f-c65b2c5928d2  \n",
       "3  2d5c1cad-07eb-439f-8ffa-9cd8ced6cea2  \n",
       "4  48a9bdca-dbf9-41b3-be54-93cf62d257da  "
      ]
     },
     "execution_count": 20,
     "metadata": {},
     "output_type": "execute_result"
    }
   ],
   "source": [
    "ecomm_df.head()"
   ]
  },
  {
   "cell_type": "code",
   "execution_count": 21,
   "metadata": {},
   "outputs": [
    {
     "data": {
      "text/html": [
       "<div>\n",
       "<style scoped>\n",
       "    .dataframe tbody tr th:only-of-type {\n",
       "        vertical-align: middle;\n",
       "    }\n",
       "\n",
       "    .dataframe tbody tr th {\n",
       "        vertical-align: top;\n",
       "    }\n",
       "\n",
       "    .dataframe thead th {\n",
       "        text-align: right;\n",
       "    }\n",
       "</style>\n",
       "<table border=\"1\" class=\"dataframe\">\n",
       "  <thead>\n",
       "    <tr style=\"text-align: right;\">\n",
       "      <th></th>\n",
       "      <th>purchase_amount</th>\n",
       "      <th>order_date</th>\n",
       "    </tr>\n",
       "  </thead>\n",
       "  <tbody>\n",
       "    <tr>\n",
       "      <th>count</th>\n",
       "      <td>51948.000000</td>\n",
       "      <td>51948</td>\n",
       "    </tr>\n",
       "    <tr>\n",
       "      <th>mean</th>\n",
       "      <td>56.697919</td>\n",
       "      <td>2024-05-30 02:21:20.665280768</td>\n",
       "    </tr>\n",
       "    <tr>\n",
       "      <th>min</th>\n",
       "      <td>0.000000</td>\n",
       "      <td>2023-01-01 00:00:00</td>\n",
       "    </tr>\n",
       "    <tr>\n",
       "      <th>25%</th>\n",
       "      <td>17.140000</td>\n",
       "      <td>2024-02-19 00:00:00</td>\n",
       "    </tr>\n",
       "    <tr>\n",
       "      <th>50%</th>\n",
       "      <td>25.190000</td>\n",
       "      <td>2024-06-21 00:00:00</td>\n",
       "    </tr>\n",
       "    <tr>\n",
       "      <th>75%</th>\n",
       "      <td>41.980000</td>\n",
       "      <td>2024-10-06 00:00:00</td>\n",
       "    </tr>\n",
       "    <tr>\n",
       "      <th>max</th>\n",
       "      <td>13976.400000</td>\n",
       "      <td>2025-01-22 00:00:00</td>\n",
       "    </tr>\n",
       "    <tr>\n",
       "      <th>std</th>\n",
       "      <td>207.860065</td>\n",
       "      <td>NaN</td>\n",
       "    </tr>\n",
       "  </tbody>\n",
       "</table>\n",
       "</div>"
      ],
      "text/plain": [
       "       purchase_amount                     order_date\n",
       "count     51948.000000                          51948\n",
       "mean         56.697919  2024-05-30 02:21:20.665280768\n",
       "min           0.000000            2023-01-01 00:00:00\n",
       "25%          17.140000            2024-02-19 00:00:00\n",
       "50%          25.190000            2024-06-21 00:00:00\n",
       "75%          41.980000            2024-10-06 00:00:00\n",
       "max       13976.400000            2025-01-22 00:00:00\n",
       "std         207.860065                            NaN"
      ]
     },
     "execution_count": 21,
     "metadata": {},
     "output_type": "execute_result"
    }
   ],
   "source": [
    "ecomm_df.describe()"
   ]
  },
  {
   "cell_type": "code",
   "execution_count": 22,
   "metadata": {},
   "outputs": [
    {
     "name": "stdout",
     "output_type": "stream",
     "text": [
      "<class 'pandas.core.frame.DataFrame'>\n",
      "RangeIndex: 51948 entries, 0 to 51947\n",
      "Data columns (total 5 columns):\n",
      " #   Column           Non-Null Count  Dtype         \n",
      "---  ------           --------------  -----         \n",
      " 0   order_id         51948 non-null  object        \n",
      " 1   purchase_amount  51948 non-null  float64       \n",
      " 2   currency         51948 non-null  object        \n",
      " 3   order_date       51948 non-null  datetime64[ns]\n",
      " 4   customer_id      51948 non-null  object        \n",
      "dtypes: datetime64[ns](1), float64(1), object(3)\n",
      "memory usage: 2.0+ MB\n"
     ]
    }
   ],
   "source": [
    "ecomm_df.info()"
   ]
  },
  {
   "cell_type": "code",
   "execution_count": 23,
   "metadata": {},
   "outputs": [
    {
     "data": {
      "text/plain": [
       "(51948, 5)"
      ]
     },
     "execution_count": 23,
     "metadata": {},
     "output_type": "execute_result"
    }
   ],
   "source": [
    "ecomm_df.shape"
   ]
  },
  {
   "cell_type": "code",
   "execution_count": 24,
   "metadata": {},
   "outputs": [
    {
     "name": "stdout",
     "output_type": "stream",
     "text": [
      "The number of single logins are: 4505\n"
     ]
    }
   ],
   "source": [
    "login_counts = ecomm_df['customer_id'].value_counts()\n",
    "single_logins = (login_counts == 1).sum()\n",
    "print(\"The number of single logins are:\", single_logins)"
   ]
  },
  {
   "cell_type": "code",
   "execution_count": 25,
   "metadata": {},
   "outputs": [
    {
     "data": {
      "text/plain": [
       "order_id           51948\n",
       "purchase_amount     7067\n",
       "currency               3\n",
       "order_date           750\n",
       "customer_id         7373\n",
       "dtype: int64"
      ]
     },
     "execution_count": 25,
     "metadata": {},
     "output_type": "execute_result"
    }
   ],
   "source": [
    "ecomm_df.nunique()"
   ]
  },
  {
   "cell_type": "code",
   "execution_count": 26,
   "metadata": {},
   "outputs": [
    {
     "name": "stdout",
     "output_type": "stream",
     "text": [
      "['a01b746c-88c9-45e2-ad7a-6ef25d10c7d8'\n",
      " '9e4062c6-2573-4d82-b0c6-f9f29978dc9e'\n",
      " '919cdf1c-443c-495c-b2de-f96cdd121a71']\n"
     ]
    }
   ],
   "source": [
    "big_spenders = ecomm_df[ecomm_df['purchase_amount'] > 8000]['customer_id'].unique()\n",
    "print(big_spenders)"
   ]
  },
  {
   "cell_type": "code",
   "execution_count": null,
   "metadata": {},
   "outputs": [],
   "source": []
  }
 ],
 "metadata": {
  "kernelspec": {
   "display_name": "crime-env",
   "language": "python",
   "name": "python3"
  },
  "language_info": {
   "codemirror_mode": {
    "name": "ipython",
    "version": 3
   },
   "file_extension": ".py",
   "mimetype": "text/x-python",
   "name": "python",
   "nbconvert_exporter": "python",
   "pygments_lexer": "ipython3",
   "version": "3.11.1"
  }
 },
 "nbformat": 4,
 "nbformat_minor": 2
}
